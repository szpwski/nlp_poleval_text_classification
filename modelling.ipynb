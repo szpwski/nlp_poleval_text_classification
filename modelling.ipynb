{
 "cells": [
  {
   "cell_type": "markdown",
   "metadata": {},
   "source": [
    "# Libraries"
   ]
  },
  {
   "cell_type": "code",
   "execution_count": 16,
   "metadata": {},
   "outputs": [],
   "source": [
    "import pandas as pd\n",
    "import numpy as np\n",
    "\n",
    "import plotly.graph_objects as go\n",
    "\n",
    "from sklearn.feature_extraction.text import TfidfVectorizer\n",
    "from sklearn.naive_bayes import MultinomialNB\n",
    "from sklearn.svm import SVC\n",
    "from sklearn.pipeline import Pipeline\n",
    "from sklearn.metrics import confusion_matrix, roc_auc_score, roc_curve\n",
    "from sklearn.preprocessing import StandardScaler\n",
    "\n",
    "from imblearn.over_sampling import SMOTE\n",
    "from collections import Counter\n",
    "\n",
    "from joblib import dump, load\n",
    "\n",
    "import torch\n",
    "from transformers import AutoTokenizer\n",
    "import classification_modules as cm\n",
    "from classification_modules.scoring import get_prob_scores, load_checkpoint"
   ]
  },
  {
   "cell_type": "markdown",
   "metadata": {},
   "source": [
    "# Data preparation"
   ]
  },
  {
   "cell_type": "code",
   "execution_count": 23,
   "metadata": {},
   "outputs": [
    {
     "data": {
      "text/html": [
       "<div>\n",
       "<style scoped>\n",
       "    .dataframe tbody tr th:only-of-type {\n",
       "        vertical-align: middle;\n",
       "    }\n",
       "\n",
       "    .dataframe tbody tr th {\n",
       "        vertical-align: top;\n",
       "    }\n",
       "\n",
       "    .dataframe thead th {\n",
       "        text-align: right;\n",
       "    }\n",
       "</style>\n",
       "<table border=\"1\" class=\"dataframe\">\n",
       "  <thead>\n",
       "    <tr style=\"text-align: right;\">\n",
       "      <th></th>\n",
       "      <th>text</th>\n",
       "      <th>label</th>\n",
       "      <th>text_no_emoji</th>\n",
       "      <th>text_preprocessed</th>\n",
       "    </tr>\n",
       "  </thead>\n",
       "  <tbody>\n",
       "    <tr>\n",
       "      <th>0</th>\n",
       "      <td>Dla mnie faworytem do tytułu będzie Cracovia. ...</td>\n",
       "      <td>0</td>\n",
       "      <td>Dla mnie faworytem do tytułu będzie Cracovia. ...</td>\n",
       "      <td>['faworyt', 'tytuł', 'cracovia', 'zobaczyć', '...</td>\n",
       "    </tr>\n",
       "    <tr>\n",
       "      <th>1</th>\n",
       "      <td>@anonymized_account @anonymized_account Brawo ...</td>\n",
       "      <td>0</td>\n",
       "      <td>Brawo ty Daria kibic ma być na dobre i złe</td>\n",
       "      <td>['brawo', 'daria', 'kibic', 'dobry', 'zły']</td>\n",
       "    </tr>\n",
       "    <tr>\n",
       "      <th>2</th>\n",
       "      <td>@anonymized_account @anonymized_account Super,...</td>\n",
       "      <td>0</td>\n",
       "      <td>Super, polski premier składa kwiaty na grobach...</td>\n",
       "      <td>['super', 'polski', 'premier', 'składać', 'kwi...</td>\n",
       "    </tr>\n",
       "    <tr>\n",
       "      <th>3</th>\n",
       "      <td>@anonymized_account @anonymized_account Musi. ...</td>\n",
       "      <td>0</td>\n",
       "      <td>Musi. Innej drogi nie mamy.</td>\n",
       "      <td>['innej', 'droga']</td>\n",
       "    </tr>\n",
       "    <tr>\n",
       "      <th>4</th>\n",
       "      <td>Odrzut natychmiastowy, kwaśna mina, mam problem</td>\n",
       "      <td>0</td>\n",
       "      <td>Odrzut natychmiastowy, kwaśna mina, mam problem</td>\n",
       "      <td>['odrzut', 'natychmiastowy', 'kwaśna', 'mina',...</td>\n",
       "    </tr>\n",
       "  </tbody>\n",
       "</table>\n",
       "</div>"
      ],
      "text/plain": [
       "                                                text  label  \\\n",
       "0  Dla mnie faworytem do tytułu będzie Cracovia. ...      0   \n",
       "1  @anonymized_account @anonymized_account Brawo ...      0   \n",
       "2  @anonymized_account @anonymized_account Super,...      0   \n",
       "3  @anonymized_account @anonymized_account Musi. ...      0   \n",
       "4    Odrzut natychmiastowy, kwaśna mina, mam problem      0   \n",
       "\n",
       "                                       text_no_emoji  \\\n",
       "0  Dla mnie faworytem do tytułu będzie Cracovia. ...   \n",
       "1         Brawo ty Daria kibic ma być na dobre i złe   \n",
       "2  Super, polski premier składa kwiaty na grobach...   \n",
       "3                        Musi. Innej drogi nie mamy.   \n",
       "4    Odrzut natychmiastowy, kwaśna mina, mam problem   \n",
       "\n",
       "                                   text_preprocessed  \n",
       "0  ['faworyt', 'tytuł', 'cracovia', 'zobaczyć', '...  \n",
       "1        ['brawo', 'daria', 'kibic', 'dobry', 'zły']  \n",
       "2  ['super', 'polski', 'premier', 'składać', 'kwi...  \n",
       "3                                 ['innej', 'droga']  \n",
       "4  ['odrzut', 'natychmiastowy', 'kwaśna', 'mina',...  "
      ]
     },
     "execution_count": 23,
     "metadata": {},
     "output_type": "execute_result"
    }
   ],
   "source": [
    "# Read train and test dataset\n",
    "train, test = pd.read_csv(\"./data/train.csv\"), pd.read_csv(\"./data/test.csv\")\n",
    "train, test = train[train.label.isna()==False], test[test.label.isna()==False]\n",
    "train.head()"
   ]
  },
  {
   "cell_type": "markdown",
   "metadata": {},
   "source": [
    "## Easy Data Augmentation"
   ]
  },
  {
   "cell_type": "code",
   "execution_count": 25,
   "metadata": {},
   "outputs": [
    {
     "name": "stdout",
     "output_type": "stream",
     "text": [
      "Ilość klasy większościowej wynosi 91.52%, a mniejszościowej 8.48%\n"
     ]
    }
   ],
   "source": [
    "# Check proportion of classes in datasets\n",
    "print(f\"Majority class {np.round(train.label.value_counts()[0]/sum(train.label.value_counts())*100, 2)}%, minority class {np.round(train.label.value_counts()[1]/sum(train.label.value_counts())*100, 2)}%\")"
   ]
  },
  {
   "cell_type": "code",
   "execution_count": 26,
   "metadata": {},
   "outputs": [
    {
     "name": "stdout",
     "output_type": "stream",
     "text": [
      "Ilość klasy większościowej wynosi 50.0%, a mniejszościowej 50.0%\n"
     ]
    }
   ],
   "source": [
    "# Perform easy data augmentation to overcome problem of unbalanced data\n",
    "train_eda = cm.perform_eda(train, 0.4, train.label.value_counts()[0] - train.label.value_counts()[1])\n",
    "print(f\"Majority class {np.round(train_eda.label.value_counts()[0]/sum(train_eda.label.value_counts())*100, 2)}%, minority class {np.round(train_eda.label.value_counts()[1]/sum(train_eda.label.value_counts())*100, 2)}%\")"
   ]
  },
  {
   "cell_type": "markdown",
   "metadata": {},
   "source": [
    "## Token extraction"
   ]
  },
  {
   "cell_type": "code",
   "execution_count": 27,
   "metadata": {},
   "outputs": [
    {
     "data": {
      "text/html": [
       "<div>\n",
       "<style scoped>\n",
       "    .dataframe tbody tr th:only-of-type {\n",
       "        vertical-align: middle;\n",
       "    }\n",
       "\n",
       "    .dataframe tbody tr th {\n",
       "        vertical-align: top;\n",
       "    }\n",
       "\n",
       "    .dataframe thead th {\n",
       "        text-align: right;\n",
       "    }\n",
       "</style>\n",
       "<table border=\"1\" class=\"dataframe\">\n",
       "  <thead>\n",
       "    <tr style=\"text-align: right;\">\n",
       "      <th></th>\n",
       "      <th>text_preprocessed</th>\n",
       "      <th>label</th>\n",
       "      <th>eda</th>\n",
       "      <th>text</th>\n",
       "    </tr>\n",
       "  </thead>\n",
       "  <tbody>\n",
       "    <tr>\n",
       "      <th>0</th>\n",
       "      <td>['faworyt', 'tytuł', 'cracovia', 'zobaczyć', '...</td>\n",
       "      <td>0</td>\n",
       "      <td>0</td>\n",
       "      <td>faworyt tytuł cracovia zobaczyć typ sprawdzić</td>\n",
       "    </tr>\n",
       "    <tr>\n",
       "      <th>1</th>\n",
       "      <td>['brawo', 'daria', 'kibic', 'dobry', 'zły']</td>\n",
       "      <td>0</td>\n",
       "      <td>0</td>\n",
       "      <td>brawo daria kibic dobry zły</td>\n",
       "    </tr>\n",
       "    <tr>\n",
       "      <th>2</th>\n",
       "      <td>['super', 'polski', 'premier', 'składać', 'kwi...</td>\n",
       "      <td>0</td>\n",
       "      <td>0</td>\n",
       "      <td>super polski premier składać kwiat groba kolab...</td>\n",
       "    </tr>\n",
       "    <tr>\n",
       "      <th>3</th>\n",
       "      <td>['innej', 'droga']</td>\n",
       "      <td>0</td>\n",
       "      <td>0</td>\n",
       "      <td>innej droga</td>\n",
       "    </tr>\n",
       "    <tr>\n",
       "      <th>4</th>\n",
       "      <td>['odrzut', 'natychmiastowy', 'kwaśna', 'mina',...</td>\n",
       "      <td>0</td>\n",
       "      <td>0</td>\n",
       "      <td>odrzut natychmiastowy kwaśna mina problem</td>\n",
       "    </tr>\n",
       "  </tbody>\n",
       "</table>\n",
       "</div>"
      ],
      "text/plain": [
       "                                   text_preprocessed  label  eda  \\\n",
       "0  ['faworyt', 'tytuł', 'cracovia', 'zobaczyć', '...      0    0   \n",
       "1        ['brawo', 'daria', 'kibic', 'dobry', 'zły']      0    0   \n",
       "2  ['super', 'polski', 'premier', 'składać', 'kwi...      0    0   \n",
       "3                                 ['innej', 'droga']      0    0   \n",
       "4  ['odrzut', 'natychmiastowy', 'kwaśna', 'mina',...      0    0   \n",
       "\n",
       "                                                text  \n",
       "0      faworyt tytuł cracovia zobaczyć typ sprawdzić  \n",
       "1                        brawo daria kibic dobry zły  \n",
       "2  super polski premier składać kwiat groba kolab...  \n",
       "3                                        innej droga  \n",
       "4          odrzut natychmiastowy kwaśna mina problem  "
      ]
     },
     "execution_count": 27,
     "metadata": {},
     "output_type": "execute_result"
    }
   ],
   "source": [
    "# Change lists of tokens into single string in test and train dataset\n",
    "train_eda.text_preprocessed = train_eda.text_preprocessed.astype('str')\n",
    "train_eda['text'] = train_eda.text_preprocessed.apply(lambda row: row.strip('][').replace(\"'\", \"\").replace(', ', ' ').strip())\n",
    "\n",
    "train.text_preprocessed = train.text_preprocessed.astype('str')\n",
    "train['text'] = train.text_preprocessed.apply(lambda row: row.strip('][').replace(\"'\", \"\").replace(', ', ' ').strip())\n",
    "\n",
    "test.text_preprocessed = test.text_preprocessed.astype('str')\n",
    "test['text'] = test.text_preprocessed.apply(lambda row: row.strip('][').replace(\"'\", \"\").replace(', ', ' ').strip())\n",
    "\n",
    "train_eda.head()"
   ]
  },
  {
   "cell_type": "markdown",
   "metadata": {},
   "source": [
    "## Vectorization and over-sampling"
   ]
  },
  {
   "cell_type": "code",
   "execution_count": 29,
   "metadata": {},
   "outputs": [
    {
     "name": "stdout",
     "output_type": "stream",
     "text": [
      "Counter({0: 9190, 1: 9190})\n"
     ]
    }
   ],
   "source": [
    "# Prepare X, y\n",
    "\n",
    "# Using TF-IDF vectorizer\n",
    "X = train_eda.text\n",
    "y = train_eda.label\n",
    "\n",
    "# Using SMOTE over-sampling\n",
    "\n",
    "# Set variables with features and label\n",
    "X_tr = train.text\n",
    "y_tr = train.label\n",
    "\n",
    "# Initialize TF-IDF vectorizer\n",
    "vectorizer = TfidfVectorizer()\n",
    "\n",
    "# Fit and transform training features\n",
    "X_tf = vectorizer.fit_transform(X_tr)\n",
    "\n",
    "# Transform test features\n",
    "X_test_res = vectorizer.transform(test.text)\n",
    "\n",
    "# Initialize SMOTE technique at given seed\n",
    "sm = SMOTE(random_state=42)\n",
    "\n",
    "# Fit and transform training features and labels\n",
    "X_res, y_res = sm.fit_resample(X_tf, y_tr)"
   ]
  },
  {
   "cell_type": "markdown",
   "metadata": {},
   "source": [
    "# Modelling"
   ]
  },
  {
   "cell_type": "markdown",
   "metadata": {},
   "source": [
    "## TF-IDF + NB"
   ]
  },
  {
   "cell_type": "code",
   "execution_count": 30,
   "metadata": {},
   "outputs": [
    {
     "name": "stdout",
     "output_type": "stream",
     "text": [
      "Train CV results:\n",
      " {'accuracy': 0.9614074387354546, 'precision': 0.9572199796458322, 'recall': 0.9664301924899396, 'f1': 0.9616597162757913}\n",
      "Validation CV results:\n",
      " {'accuracy': 0.8956110811501293, 'precision': 0.8477225112696504, 'recall': 0.9647090175078786, 'f1': 0.9022785524403458}\n",
      "Test dataset results:\n",
      " {'accuracy': 0.793, 'precision': 0.3392070484581498, 'recall': 0.5746268656716418, 'f1': 0.42659279778393355}\n"
     ]
    },
    {
     "data": {
      "text/plain": [
       "['models/nb_model.joblib']"
      ]
     },
     "execution_count": 30,
     "metadata": {},
     "output_type": "execute_result"
    }
   ],
   "source": [
    "# Set parameters values\n",
    "estimator = Pipeline([\n",
    "        ('tfidf', TfidfVectorizer()),\n",
    "        ('clf', MultinomialNB()),\n",
    "    ])\n",
    "\n",
    "param_grid = {\n",
    "        'tfidf__ngram_range': [(1, 1), (1, 2), (1, 3)],\n",
    "        'tfidf__norm': ['l2'],\n",
    "        'tfidf__smooth_idf': [True],\n",
    "        'tfidf__sublinear_tf': [False]\n",
    "}\n",
    "\n",
    "# Perform CV\n",
    "nb_model, nb_results, grid_search = cm.perform_cross_validation(X, y, estimator, param_grid)\n",
    "\n",
    "cv_train_results, cv_val_results = {}, {}\n",
    "for k in nb_results.keys():\n",
    "    metric = k.split('_')[-1]\n",
    "    if 'mean_train_' in k:\n",
    "        cv_train_results[metric] = np.mean(nb_results[k])\n",
    "    if 'mean_test_' in k:\n",
    "        cv_val_results[metric] = np.mean(nb_results[k])\n",
    "\n",
    "# Get predictions\n",
    "y_pred = [1 if prob >= 0.5 else 0 for prob in nb_model.predict_proba(test.text)[:,1]]\n",
    "y_test = test.label\n",
    "\n",
    "print(\"Train CV results:\\n\", cv_train_results)\n",
    "print(\"Validation CV results:\\n\", cv_val_results)\n",
    "\n",
    "# Get scores\n",
    "scores_nb = cm.score(y_test, y_pred)\n",
    "print(\"Test dataset results:\\n\", scores_nb)\n",
    "\n",
    "dump(nb_model, 'models/nb_model.joblib') \n",
    "#nb_model = load('models/nb_model.joblib')"
   ]
  },
  {
   "cell_type": "markdown",
   "metadata": {},
   "source": [
    "## SMOTE + TF-IDF + NB"
   ]
  },
  {
   "cell_type": "code",
   "execution_count": 32,
   "metadata": {},
   "outputs": [
    {
     "name": "stdout",
     "output_type": "stream",
     "text": [
      "Train CV results:\n",
      " {'accuracy': 0.9557399161459047, 'precision': 0.9207857980163162, 'recall': 0.9972796932232274, 'f1': 0.9575062472081525}\n",
      "Validation CV results:\n",
      " {'accuracy': 0.9047336510150629, 'precision': 0.8424953309555847, 'recall': 0.9956471467900517, 'f1': 0.9126811162032343}\n",
      "Test dataset results:\n",
      " {'accuracy': 0.791, 'precision': 0.33766233766233766, 'recall': 0.582089552238806, 'f1': 0.4273972602739726}\n"
     ]
    },
    {
     "data": {
      "text/plain": [
       "['models/nb_smote_model.joblib']"
      ]
     },
     "execution_count": 32,
     "metadata": {},
     "output_type": "execute_result"
    }
   ],
   "source": [
    "# set parameters values\n",
    "estimator = MultinomialNB()\n",
    "\n",
    "param_grid = {}\n",
    "\n",
    "# perform CV\n",
    "nb_bert_model, nb_bert_results, grid_search = cm.perform_cross_validation(X_res, y_res, estimator, param_grid)\n",
    "\n",
    "cv_train_results, cv_val_results = {}, {}\n",
    "for k in nb_bert_results.keys():\n",
    "    metric = k.split('_')[-1]\n",
    "    if 'mean_train_' in k:\n",
    "        cv_train_results[metric] = np.mean(nb_bert_results[k])\n",
    "    if 'mean_test_' in k:\n",
    "        cv_val_results[metric] = np.mean(nb_bert_results[k])\n",
    "\n",
    "print(\"Train CV results:\\n\", cv_train_results)\n",
    "print(\"Validation CV results:\\n\", cv_val_results)\n",
    "\n",
    "# get predictions\n",
    "y_pred = [1 if prob >= 0.5 else 0 for prob in nb_bert_model.predict_proba(X_test_res)[:,1]]\n",
    "y_test = test.label\n",
    "\n",
    "# get scores\n",
    "scores_nb_bert = cm.score(y_test, y_pred)\n",
    "print(\"Test dataset results:\\n\", scores_nb_bert)\n",
    "\n",
    "dump(nb_bert_model, 'models/nb_smote_model.joblib') \n",
    "#nb_model = load('models/nb_model.joblib')"
   ]
  },
  {
   "cell_type": "markdown",
   "metadata": {},
   "source": [
    "## TF-IDF + SVM"
   ]
  },
  {
   "cell_type": "code",
   "execution_count": 34,
   "metadata": {},
   "outputs": [
    {
     "name": "stdout",
     "output_type": "stream",
     "text": [
      "Train CV results:\n",
      " {'accuracy': 0.917319521376367, 'precision': 0.9825779035514124, 'recall': 0.8482800830386628, 'f1': 0.870744937809589}\n",
      "Validation CV results:\n",
      " {'accuracy': 0.8745587593409896, 'precision': 0.8901401643075304, 'recall': 0.8424983566424747, 'f1': 0.8301067137762548}\n",
      "Test dataset results:\n",
      " {'accuracy': 0.842, 'precision': 0.3, 'recall': 0.13432835820895522, 'f1': 0.18556701030927836}\n"
     ]
    },
    {
     "data": {
      "text/plain": [
       "['models/svm_model.joblib']"
      ]
     },
     "execution_count": 34,
     "metadata": {},
     "output_type": "execute_result"
    }
   ],
   "source": [
    "# Set parameters values\n",
    "estimator = Pipeline([\n",
    "        ('tfidf', TfidfVectorizer()),\n",
    "        ('svm', SVC()),\n",
    "    ])\n",
    "\n",
    "# Specify grid with parameters\n",
    "param_grid = {\n",
    "    'tfidf__ngram_range': [(1, 1), (1, 2), (1, 3)],\n",
    "    'tfidf__norm': ['l2'],\n",
    "    'tfidf__smooth_idf': [True],\n",
    "    'tfidf__sublinear_tf': [False],\n",
    "    'svm__C': [0.1, 1, 10],\n",
    "    'svm__kernel': ['linear', 'rbf'],\n",
    "}\n",
    "\n",
    "# Perform CV\n",
    "svm_model, svm_results, grid_search = cm.perform_cross_validation(X, y, estimator, param_grid)\n",
    "\n",
    "cv_train_results, cv_val_results = {}, {}\n",
    "for k in svm_results.keys():\n",
    "    metric = k.split('_')[-1]\n",
    "    if 'mean_train_' in k:\n",
    "        cv_train_results[metric] = np.mean(svm_results[k])\n",
    "    if 'mean_test_' in k:\n",
    "        cv_val_results[metric] = np.mean(svm_results[k])\n",
    "\n",
    "print(\"Train CV results:\\n\", cv_train_results)\n",
    "print(\"Validation CV results:\\n\", cv_val_results)\n",
    "\n",
    "# Get predictions\n",
    "y_pred = svm_model.predict(test.text)\n",
    "y_test = test.label\n",
    "\n",
    "# Evaluate results\n",
    "scores_svm = cm.score(y_test, y_pred)\n",
    "print(\"Test dataset results:\\n\", scores_svm)\n",
    "\n",
    "# Save model\n",
    "dump(svm_model, 'models/svm_model.joblib') "
   ]
  },
  {
   "cell_type": "markdown",
   "metadata": {},
   "source": [
    "## SMOTE + TF-IDF + SVM"
   ]
  },
  {
   "cell_type": "code",
   "execution_count": 35,
   "metadata": {},
   "outputs": [
    {
     "name": "stdout",
     "output_type": "stream",
     "text": [
      "Train CV results:\n",
      " {'accuracy': 0.9706974045575182, 'precision': 0.989607629251685, 'recall': 0.9513236528545207, 'f1': 0.9685071667719728}\n",
      "Validation CV results:\n",
      " {'accuracy': 0.9573908360626068, 'precision': 0.9744828676740287, 'recall': 0.940149810416795, 'f1': 0.9541147018832018}\n",
      "Test dataset results:\n",
      " {'accuracy': 0.871, 'precision': 0.6923076923076923, 'recall': 0.06716417910447761, 'f1': 0.12244897959183673}\n"
     ]
    },
    {
     "data": {
      "text/plain": [
       "['models/svm_smote_model.joblib']"
      ]
     },
     "execution_count": 35,
     "metadata": {},
     "output_type": "execute_result"
    }
   ],
   "source": [
    "# set parameters values\n",
    "estimator = SVC()\n",
    "\n",
    "param_grid = {\n",
    "    'C': [0.1, 1, 10],\n",
    "    'kernel': ['linear', 'rbf'],\n",
    "}\n",
    "\n",
    "# perform CV\n",
    "svm_bert_model, svm_bert_results, grid_search = cm.perform_cross_validation(X_res, y_res, estimator, param_grid)\n",
    "\n",
    "cv_train_results, cv_val_results = {}, {}\n",
    "for k in svm_bert_results.keys():\n",
    "    metric = k.split('_')[-1]\n",
    "    if 'mean_train_' in k:\n",
    "        cv_train_results[metric] = np.mean(svm_bert_results[k])\n",
    "    if 'mean_test_' in k:\n",
    "        cv_val_results[metric] = np.mean(svm_bert_results[k])\n",
    "\n",
    "print(\"Train CV results:\\n\", cv_train_results)\n",
    "print(\"Validation CV results:\\n\", cv_val_results)\n",
    "\n",
    "# get predictions\n",
    "y_pred = svm_bert_model.predict(X_test_res)\n",
    "y_test = test.label\n",
    "\n",
    "# get scores\n",
    "scores_svm_bert = cm.score(y_test, y_pred)\n",
    "print(\"Test dataset results:\\n\", scores_svm_bert)\n",
    "\n",
    "dump(svm_bert_model, 'models/svm_smote_model.joblib') \n",
    "#nb_model = load('models/svm_model.joblib')"
   ]
  },
  {
   "cell_type": "markdown",
   "metadata": {},
   "source": [
    "## HerBERT"
   ]
  },
  {
   "cell_type": "code",
   "execution_count": 37,
   "metadata": {},
   "outputs": [],
   "source": [
    "df_train, df_val = np.split(train_eda[['text', 'label']].sample(frac=1, random_state=42), [int(0.95 * len(train_eda))])\n",
    "df_test = test[['text', 'label']] "
   ]
  },
  {
   "cell_type": "code",
   "execution_count": 38,
   "metadata": {},
   "outputs": [
    {
     "name": "stdout",
     "output_type": "stream",
     "text": [
      "\n",
      "LEARNING RATE:  2e-05\n",
      "#####################\n",
      "Setting Datasets...\n",
      "\n",
      "Creating DataLoaders...\n",
      "\n",
      "Setting up optimizer and criterion...\n",
      "\n",
      "Training on GPU...\n",
      "\n"
     ]
    },
    {
     "name": "stderr",
     "output_type": "stream",
     "text": [
      "c:\\Users\\szpws\\OneDrive\\Pulpit\\GIT\\nlp_poleval_text_classification\\env\\Lib\\site-packages\\transformers\\optimization.py:411: FutureWarning: This implementation of AdamW is deprecated and will be removed in a future version. Use the PyTorch implementation torch.optim.AdamW instead, or set `no_deprecation_warning=True` to disable this warning\n",
      "  warnings.warn(\n",
      "100%|██████████| 4366/4366 [22:33<00:00,  3.23it/s]\n",
      "100%|██████████| 230/230 [00:21<00:00, 10.46it/s]\n"
     ]
    },
    {
     "name": "stdout",
     "output_type": "stream",
     "text": [
      "\n",
      "Best validation loss: 0.04700564593076706\n",
      "\n",
      "Best deviation: 0.04618926718831062\n",
      "\n",
      "Saving best model for epoch: 1\n",
      "\n",
      "\n",
      "Train accuracy: 0.9497 | Validation accuracy: 0.9423\n",
      "\n",
      "Train precision: 0.9806 | Validation precision: 0.9206\n",
      "\n",
      "Train recall: 0.9177 | Validation recall: 0.9640\n",
      "\n",
      "Train f1: 0.9481 | Validation f1: 0.9418\n",
      "Epochs: 1\n",
      "Train Loss:  0.0352 | Validation Loss:  0.0371\n",
      "Train accuracy: 0.9497 | Validation accuracy: 0.9423\n",
      "Train precision: 0.9806 | Validation precision: 0.9206\n",
      "Train recall: 0.9177 | Validation recall: 0.9640\n",
      "Train f1: 0.9481 | Validation f1: 0.9418\n"
     ]
    },
    {
     "name": "stderr",
     "output_type": "stream",
     "text": [
      "100%|██████████| 4366/4366 [22:29<00:00,  3.24it/s]\n",
      "100%|██████████| 230/230 [00:22<00:00, 10.39it/s]\n"
     ]
    },
    {
     "name": "stdout",
     "output_type": "stream",
     "text": [
      "Epochs: 2\n",
      "Train Loss:  0.0246 | Validation Loss:  0.0294\n",
      "Train accuracy: 0.9613 | Validation accuracy: 0.9576\n",
      "Train precision: 0.9716 | Validation precision: 0.9635\n",
      "Train recall: 0.9506 | Validation recall: 0.9483\n",
      "Train f1: 0.9610 | Validation f1: 0.9558\n"
     ]
    },
    {
     "name": "stderr",
     "output_type": "stream",
     "text": [
      "100%|██████████| 4366/4366 [22:31<00:00,  3.23it/s]\n",
      "100%|██████████| 230/230 [00:22<00:00, 10.45it/s]\n"
     ]
    },
    {
     "name": "stdout",
     "output_type": "stream",
     "text": [
      "Epochs: 3\n",
      "Train Loss:  0.0178 | Validation Loss:  0.0295\n",
      "Train accuracy: 0.9743 | Validation accuracy: 0.9478\n",
      "Train precision: 0.9753 | Validation precision: 0.9901\n",
      "Train recall: 0.9735 | Validation recall: 0.9011\n",
      "Train f1: 0.9744 | Validation f1: 0.9435\n"
     ]
    },
    {
     "name": "stderr",
     "output_type": "stream",
     "text": [
      "100%|██████████| 4366/4366 [21:01<00:00,  3.46it/s]\n",
      "100%|██████████| 230/230 [00:20<00:00, 11.20it/s]\n"
     ]
    },
    {
     "name": "stdout",
     "output_type": "stream",
     "text": [
      "Epochs: 4\n",
      "Train Loss:  0.0117 | Validation Loss:  0.0401\n",
      "Train accuracy: 0.9833 | Validation accuracy: 0.9510\n",
      "Train precision: 0.9828 | Validation precision: 0.9310\n",
      "Train recall: 0.9839 | Validation recall: 0.9708\n",
      "Train f1: 0.9833 | Validation f1: 0.9505\n"
     ]
    },
    {
     "name": "stderr",
     "output_type": "stream",
     "text": [
      "100%|██████████| 4366/4366 [20:48<00:00,  3.50it/s]\n",
      "100%|██████████| 230/230 [00:20<00:00, 11.18it/s]\n"
     ]
    },
    {
     "name": "stdout",
     "output_type": "stream",
     "text": [
      "Epochs: 5\n",
      "Train Loss:  0.0095 | Validation Loss:  0.0492\n",
      "Train accuracy: 0.9880 | Validation accuracy: 0.9467\n",
      "Train precision: 0.9883 | Validation precision: 0.9381\n",
      "Train recall: 0.9877 | Validation recall: 0.9528\n",
      "Train f1: 0.9880 | Validation f1: 0.9454\n",
      "Setting test data as Dataset...\n",
      "\n",
      "Setting up DataLoader...\n",
      "\n",
      "Test accuracy: 0.888\n",
      "Test precision: 0.6341463414634146\n",
      "Test recall: 0.3880597014925373\n",
      "Test f1: 0.4814814814814815\n"
     ]
    }
   ],
   "source": [
    "# Set number of epochs, batch size and learning rate\n",
    "EPOCHS = 5\n",
    "BATCH_SIZE = 4\n",
    "LR = 2e-05\n",
    "\n",
    "# Initialize HerBERT model\n",
    "model = cm.HerBertForSequenceClassification(num_classes=1, dropout_rate=0.5)            \n",
    "model_custom_name = 'herbert_model'\n",
    "\n",
    "# Start model training\n",
    "results, model = cm.train_model(\n",
    "    model = model,  \n",
    "    train_data = df_train,\n",
    "    val_data = df_val, \n",
    "    learning_rate = LR, \n",
    "    epochs = EPOCHS,\n",
    "    batch_size= BATCH_SIZE,\n",
    "    custom_model_name=model_custom_name\n",
    "    )\n",
    "results['model'] = model_custom_name\n",
    "\n",
    "# Evaluate model on test dataset\n",
    "test_res = cm.evaluate(\n",
    "    model = model, \n",
    "    test_data = df_test\n",
    "    )\n",
    "test_res['model'] = model_custom_name\n",
    "\n",
    "# Save model\n",
    "checkpoint = {\n",
    "'model': cm.HerBertForSequenceClassification(num_classes=1, dropout_rate=0.5),\n",
    "'state_dict': model.state_dict()\n",
    "}\n",
    "torch.save(checkpoint, 'models/' + model_custom_name + '.pth')"
   ]
  },
  {
   "cell_type": "markdown",
   "metadata": {},
   "source": [
    "# Results"
   ]
  },
  {
   "cell_type": "code",
   "execution_count": 41,
   "metadata": {},
   "outputs": [],
   "source": [
    "# Load models\n",
    "svm_model = load(\"models\\\\svm_model.joblib\")\n",
    "nb_model = load(\"models\\\\nb_model.joblib\")\n",
    "herbert_model = load_checkpoint(\"models\\\\herbert_model.pth\")\n",
    "svm_smote_model = load(\"models\\\\svm_smote_model.joblib\")\n",
    "nb_smote_model = load(\"models\\\\nb_smote_model.joblib\")\n",
    "\n",
    "models = {\n",
    "    'EDA + TF-IDF + NB' : nb_model,\n",
    "    'SMOTE + TF-IDF + NB' : nb_smote_model,\n",
    "    'EDA + TF-IDF + SVM' : svm_model,\n",
    "    'SMOTE + TF-IDF + SVM' : svm_smote_model,\n",
    "    'HerBERT' : herbert_model, \n",
    "    }"
   ]
  },
  {
   "cell_type": "markdown",
   "metadata": {},
   "source": [
    "## Classification metrics (ACC, Precision, Recall, F1)\n",
    "\n",
    "| Model                | ACC   | Precision  | Recall   | F1   |\n",
    "|----------------------|-------|-------|-------|-------|\n",
    "| **EDA + TF-IDF + NB**    | **0.793** | **0.339** | **0.575** | **0.427** |\n",
    "| SMOTE + TF-IDF + NB  | 0.791 | 0.338 | 0.582 | 0.427 |\n",
    "| EDA + TF-IDF + SVM   | 0.842 | 0.3   | 0.134 | 0.186 |\n",
    "| SMOTE + TF-IDF + SVM | 0.871 | 0.692 | 0.067 | 0.122 |\n",
    "| **HerBERT**             | **0.888** | **0.634** | **0.388** | **0.481** |"
   ]
  },
  {
   "cell_type": "markdown",
   "metadata": {},
   "source": [
    "## ROC + AUC"
   ]
  },
  {
   "cell_type": "code",
   "execution_count": 42,
   "metadata": {},
   "outputs": [
    {
     "data": {
      "application/vnd.plotly.v1+json": {
       "config": {
        "plotlyServerURL": "https://plot.ly"
       },
       "data": [
        {
         "mode": "lines",
         "name": "EDA + TF-IDF + NB (AUC=0.71)",
         "type": "scatter",
         "x": [
          0,
          0.1605080831408776,
          1
         ],
         "y": [
          0,
          0.5746268656716418,
          1
         ]
        },
        {
         "mode": "lines",
         "name": "SMOTE + TF-IDF + NB (AUC=0.71)",
         "type": "scatter",
         "x": [
          0,
          0.16397228637413394,
          1
         ],
         "y": [
          0,
          0.582089552238806,
          1
         ]
        },
        {
         "mode": "lines",
         "name": "EDA + TF-IDF + SVM (AUC=0.54)",
         "type": "scatter",
         "x": [
          0,
          0.04849884526558892,
          1
         ],
         "y": [
          0,
          0.13432835820895522,
          1
         ]
        },
        {
         "mode": "lines",
         "name": "SMOTE + TF-IDF + SVM (AUC=0.53)",
         "type": "scatter",
         "x": [
          0,
          0.004618937644341801,
          1
         ],
         "y": [
          0,
          0.06716417910447761,
          1
         ]
        },
        {
         "mode": "lines",
         "name": "HerBERT (AUC=0.68)",
         "type": "scatter",
         "x": [
          0,
          0.03464203233256351,
          1
         ],
         "y": [
          0,
          0.3880597014925373,
          1
         ]
        }
       ],
       "layout": {
        "height": 500,
        "shapes": [
         {
          "line": {
           "dash": "dash"
          },
          "type": "line",
          "x0": 0,
          "x1": 1,
          "y0": 0,
          "y1": 1
         }
        ],
        "template": {
         "data": {
          "bar": [
           {
            "error_x": {
             "color": "#2a3f5f"
            },
            "error_y": {
             "color": "#2a3f5f"
            },
            "marker": {
             "line": {
              "color": "#E5ECF6",
              "width": 0.5
             },
             "pattern": {
              "fillmode": "overlay",
              "size": 10,
              "solidity": 0.2
             }
            },
            "type": "bar"
           }
          ],
          "barpolar": [
           {
            "marker": {
             "line": {
              "color": "#E5ECF6",
              "width": 0.5
             },
             "pattern": {
              "fillmode": "overlay",
              "size": 10,
              "solidity": 0.2
             }
            },
            "type": "barpolar"
           }
          ],
          "carpet": [
           {
            "aaxis": {
             "endlinecolor": "#2a3f5f",
             "gridcolor": "white",
             "linecolor": "white",
             "minorgridcolor": "white",
             "startlinecolor": "#2a3f5f"
            },
            "baxis": {
             "endlinecolor": "#2a3f5f",
             "gridcolor": "white",
             "linecolor": "white",
             "minorgridcolor": "white",
             "startlinecolor": "#2a3f5f"
            },
            "type": "carpet"
           }
          ],
          "choropleth": [
           {
            "colorbar": {
             "outlinewidth": 0,
             "ticks": ""
            },
            "type": "choropleth"
           }
          ],
          "contour": [
           {
            "colorbar": {
             "outlinewidth": 0,
             "ticks": ""
            },
            "colorscale": [
             [
              0,
              "#0d0887"
             ],
             [
              0.1111111111111111,
              "#46039f"
             ],
             [
              0.2222222222222222,
              "#7201a8"
             ],
             [
              0.3333333333333333,
              "#9c179e"
             ],
             [
              0.4444444444444444,
              "#bd3786"
             ],
             [
              0.5555555555555556,
              "#d8576b"
             ],
             [
              0.6666666666666666,
              "#ed7953"
             ],
             [
              0.7777777777777778,
              "#fb9f3a"
             ],
             [
              0.8888888888888888,
              "#fdca26"
             ],
             [
              1,
              "#f0f921"
             ]
            ],
            "type": "contour"
           }
          ],
          "contourcarpet": [
           {
            "colorbar": {
             "outlinewidth": 0,
             "ticks": ""
            },
            "type": "contourcarpet"
           }
          ],
          "heatmap": [
           {
            "colorbar": {
             "outlinewidth": 0,
             "ticks": ""
            },
            "colorscale": [
             [
              0,
              "#0d0887"
             ],
             [
              0.1111111111111111,
              "#46039f"
             ],
             [
              0.2222222222222222,
              "#7201a8"
             ],
             [
              0.3333333333333333,
              "#9c179e"
             ],
             [
              0.4444444444444444,
              "#bd3786"
             ],
             [
              0.5555555555555556,
              "#d8576b"
             ],
             [
              0.6666666666666666,
              "#ed7953"
             ],
             [
              0.7777777777777778,
              "#fb9f3a"
             ],
             [
              0.8888888888888888,
              "#fdca26"
             ],
             [
              1,
              "#f0f921"
             ]
            ],
            "type": "heatmap"
           }
          ],
          "heatmapgl": [
           {
            "colorbar": {
             "outlinewidth": 0,
             "ticks": ""
            },
            "colorscale": [
             [
              0,
              "#0d0887"
             ],
             [
              0.1111111111111111,
              "#46039f"
             ],
             [
              0.2222222222222222,
              "#7201a8"
             ],
             [
              0.3333333333333333,
              "#9c179e"
             ],
             [
              0.4444444444444444,
              "#bd3786"
             ],
             [
              0.5555555555555556,
              "#d8576b"
             ],
             [
              0.6666666666666666,
              "#ed7953"
             ],
             [
              0.7777777777777778,
              "#fb9f3a"
             ],
             [
              0.8888888888888888,
              "#fdca26"
             ],
             [
              1,
              "#f0f921"
             ]
            ],
            "type": "heatmapgl"
           }
          ],
          "histogram": [
           {
            "marker": {
             "pattern": {
              "fillmode": "overlay",
              "size": 10,
              "solidity": 0.2
             }
            },
            "type": "histogram"
           }
          ],
          "histogram2d": [
           {
            "colorbar": {
             "outlinewidth": 0,
             "ticks": ""
            },
            "colorscale": [
             [
              0,
              "#0d0887"
             ],
             [
              0.1111111111111111,
              "#46039f"
             ],
             [
              0.2222222222222222,
              "#7201a8"
             ],
             [
              0.3333333333333333,
              "#9c179e"
             ],
             [
              0.4444444444444444,
              "#bd3786"
             ],
             [
              0.5555555555555556,
              "#d8576b"
             ],
             [
              0.6666666666666666,
              "#ed7953"
             ],
             [
              0.7777777777777778,
              "#fb9f3a"
             ],
             [
              0.8888888888888888,
              "#fdca26"
             ],
             [
              1,
              "#f0f921"
             ]
            ],
            "type": "histogram2d"
           }
          ],
          "histogram2dcontour": [
           {
            "colorbar": {
             "outlinewidth": 0,
             "ticks": ""
            },
            "colorscale": [
             [
              0,
              "#0d0887"
             ],
             [
              0.1111111111111111,
              "#46039f"
             ],
             [
              0.2222222222222222,
              "#7201a8"
             ],
             [
              0.3333333333333333,
              "#9c179e"
             ],
             [
              0.4444444444444444,
              "#bd3786"
             ],
             [
              0.5555555555555556,
              "#d8576b"
             ],
             [
              0.6666666666666666,
              "#ed7953"
             ],
             [
              0.7777777777777778,
              "#fb9f3a"
             ],
             [
              0.8888888888888888,
              "#fdca26"
             ],
             [
              1,
              "#f0f921"
             ]
            ],
            "type": "histogram2dcontour"
           }
          ],
          "mesh3d": [
           {
            "colorbar": {
             "outlinewidth": 0,
             "ticks": ""
            },
            "type": "mesh3d"
           }
          ],
          "parcoords": [
           {
            "line": {
             "colorbar": {
              "outlinewidth": 0,
              "ticks": ""
             }
            },
            "type": "parcoords"
           }
          ],
          "pie": [
           {
            "automargin": true,
            "type": "pie"
           }
          ],
          "scatter": [
           {
            "fillpattern": {
             "fillmode": "overlay",
             "size": 10,
             "solidity": 0.2
            },
            "type": "scatter"
           }
          ],
          "scatter3d": [
           {
            "line": {
             "colorbar": {
              "outlinewidth": 0,
              "ticks": ""
             }
            },
            "marker": {
             "colorbar": {
              "outlinewidth": 0,
              "ticks": ""
             }
            },
            "type": "scatter3d"
           }
          ],
          "scattercarpet": [
           {
            "marker": {
             "colorbar": {
              "outlinewidth": 0,
              "ticks": ""
             }
            },
            "type": "scattercarpet"
           }
          ],
          "scattergeo": [
           {
            "marker": {
             "colorbar": {
              "outlinewidth": 0,
              "ticks": ""
             }
            },
            "type": "scattergeo"
           }
          ],
          "scattergl": [
           {
            "marker": {
             "colorbar": {
              "outlinewidth": 0,
              "ticks": ""
             }
            },
            "type": "scattergl"
           }
          ],
          "scattermapbox": [
           {
            "marker": {
             "colorbar": {
              "outlinewidth": 0,
              "ticks": ""
             }
            },
            "type": "scattermapbox"
           }
          ],
          "scatterpolar": [
           {
            "marker": {
             "colorbar": {
              "outlinewidth": 0,
              "ticks": ""
             }
            },
            "type": "scatterpolar"
           }
          ],
          "scatterpolargl": [
           {
            "marker": {
             "colorbar": {
              "outlinewidth": 0,
              "ticks": ""
             }
            },
            "type": "scatterpolargl"
           }
          ],
          "scatterternary": [
           {
            "marker": {
             "colorbar": {
              "outlinewidth": 0,
              "ticks": ""
             }
            },
            "type": "scatterternary"
           }
          ],
          "surface": [
           {
            "colorbar": {
             "outlinewidth": 0,
             "ticks": ""
            },
            "colorscale": [
             [
              0,
              "#0d0887"
             ],
             [
              0.1111111111111111,
              "#46039f"
             ],
             [
              0.2222222222222222,
              "#7201a8"
             ],
             [
              0.3333333333333333,
              "#9c179e"
             ],
             [
              0.4444444444444444,
              "#bd3786"
             ],
             [
              0.5555555555555556,
              "#d8576b"
             ],
             [
              0.6666666666666666,
              "#ed7953"
             ],
             [
              0.7777777777777778,
              "#fb9f3a"
             ],
             [
              0.8888888888888888,
              "#fdca26"
             ],
             [
              1,
              "#f0f921"
             ]
            ],
            "type": "surface"
           }
          ],
          "table": [
           {
            "cells": {
             "fill": {
              "color": "#EBF0F8"
             },
             "line": {
              "color": "white"
             }
            },
            "header": {
             "fill": {
              "color": "#C8D4E3"
             },
             "line": {
              "color": "white"
             }
            },
            "type": "table"
           }
          ]
         },
         "layout": {
          "annotationdefaults": {
           "arrowcolor": "#2a3f5f",
           "arrowhead": 0,
           "arrowwidth": 1
          },
          "autotypenumbers": "strict",
          "coloraxis": {
           "colorbar": {
            "outlinewidth": 0,
            "ticks": ""
           }
          },
          "colorscale": {
           "diverging": [
            [
             0,
             "#8e0152"
            ],
            [
             0.1,
             "#c51b7d"
            ],
            [
             0.2,
             "#de77ae"
            ],
            [
             0.3,
             "#f1b6da"
            ],
            [
             0.4,
             "#fde0ef"
            ],
            [
             0.5,
             "#f7f7f7"
            ],
            [
             0.6,
             "#e6f5d0"
            ],
            [
             0.7,
             "#b8e186"
            ],
            [
             0.8,
             "#7fbc41"
            ],
            [
             0.9,
             "#4d9221"
            ],
            [
             1,
             "#276419"
            ]
           ],
           "sequential": [
            [
             0,
             "#0d0887"
            ],
            [
             0.1111111111111111,
             "#46039f"
            ],
            [
             0.2222222222222222,
             "#7201a8"
            ],
            [
             0.3333333333333333,
             "#9c179e"
            ],
            [
             0.4444444444444444,
             "#bd3786"
            ],
            [
             0.5555555555555556,
             "#d8576b"
            ],
            [
             0.6666666666666666,
             "#ed7953"
            ],
            [
             0.7777777777777778,
             "#fb9f3a"
            ],
            [
             0.8888888888888888,
             "#fdca26"
            ],
            [
             1,
             "#f0f921"
            ]
           ],
           "sequentialminus": [
            [
             0,
             "#0d0887"
            ],
            [
             0.1111111111111111,
             "#46039f"
            ],
            [
             0.2222222222222222,
             "#7201a8"
            ],
            [
             0.3333333333333333,
             "#9c179e"
            ],
            [
             0.4444444444444444,
             "#bd3786"
            ],
            [
             0.5555555555555556,
             "#d8576b"
            ],
            [
             0.6666666666666666,
             "#ed7953"
            ],
            [
             0.7777777777777778,
             "#fb9f3a"
            ],
            [
             0.8888888888888888,
             "#fdca26"
            ],
            [
             1,
             "#f0f921"
            ]
           ]
          },
          "colorway": [
           "#636efa",
           "#EF553B",
           "#00cc96",
           "#ab63fa",
           "#FFA15A",
           "#19d3f3",
           "#FF6692",
           "#B6E880",
           "#FF97FF",
           "#FECB52"
          ],
          "font": {
           "color": "#2a3f5f"
          },
          "geo": {
           "bgcolor": "white",
           "lakecolor": "white",
           "landcolor": "#E5ECF6",
           "showlakes": true,
           "showland": true,
           "subunitcolor": "white"
          },
          "hoverlabel": {
           "align": "left"
          },
          "hovermode": "closest",
          "mapbox": {
           "style": "light"
          },
          "paper_bgcolor": "white",
          "plot_bgcolor": "#E5ECF6",
          "polar": {
           "angularaxis": {
            "gridcolor": "white",
            "linecolor": "white",
            "ticks": ""
           },
           "bgcolor": "#E5ECF6",
           "radialaxis": {
            "gridcolor": "white",
            "linecolor": "white",
            "ticks": ""
           }
          },
          "scene": {
           "xaxis": {
            "backgroundcolor": "#E5ECF6",
            "gridcolor": "white",
            "gridwidth": 2,
            "linecolor": "white",
            "showbackground": true,
            "ticks": "",
            "zerolinecolor": "white"
           },
           "yaxis": {
            "backgroundcolor": "#E5ECF6",
            "gridcolor": "white",
            "gridwidth": 2,
            "linecolor": "white",
            "showbackground": true,
            "ticks": "",
            "zerolinecolor": "white"
           },
           "zaxis": {
            "backgroundcolor": "#E5ECF6",
            "gridcolor": "white",
            "gridwidth": 2,
            "linecolor": "white",
            "showbackground": true,
            "ticks": "",
            "zerolinecolor": "white"
           }
          },
          "shapedefaults": {
           "line": {
            "color": "#2a3f5f"
           }
          },
          "ternary": {
           "aaxis": {
            "gridcolor": "white",
            "linecolor": "white",
            "ticks": ""
           },
           "baxis": {
            "gridcolor": "white",
            "linecolor": "white",
            "ticks": ""
           },
           "bgcolor": "#E5ECF6",
           "caxis": {
            "gridcolor": "white",
            "linecolor": "white",
            "ticks": ""
           }
          },
          "title": {
           "x": 0.05
          },
          "xaxis": {
           "automargin": true,
           "gridcolor": "white",
           "linecolor": "white",
           "ticks": "",
           "title": {
            "standoff": 15
           },
           "zerolinecolor": "white",
           "zerolinewidth": 2
          },
          "yaxis": {
           "automargin": true,
           "gridcolor": "white",
           "linecolor": "white",
           "ticks": "",
           "title": {
            "standoff": 15
           },
           "zerolinecolor": "white",
           "zerolinewidth": 2
          }
         }
        },
        "title": {
         "text": "Krzywa ROC"
        },
        "width": 700,
        "xaxis": {
         "constrain": "domain",
         "title": {
          "text": "FPR"
         }
        },
        "yaxis": {
         "scaleanchor": "x",
         "scaleratio": 1,
         "title": {
          "text": "TPR"
         }
        }
       }
      }
     },
     "metadata": {},
     "output_type": "display_data"
    }
   ],
   "source": [
    "# Create an empty figure, and iteratively add new lines\n",
    "# every time we compute a new class\n",
    "fig = go.Figure()\n",
    "fig.add_shape(\n",
    "    type='line', line=dict(dash='dash'),\n",
    "    x0=0, x1=1, y0=0, y1=1\n",
    ")\n",
    "\n",
    "y_true = test.label.values\n",
    "\n",
    "for m in models.keys():\n",
    "    if m == 'HerBERT':\n",
    "        _, y_score, _ = get_prob_scores(models.get(m), df_test)\n",
    "    elif 'SMOTE' in m:\n",
    "        y_score = models.get(m).predict(X_test_res)\n",
    "    elif 'TF-IDF' in m:\n",
    "        y_score = models.get(m).predict(test.text)\n",
    "    \n",
    "    \n",
    "    \n",
    "    fpr, tpr, _ = roc_curve(y_true, y_score)\n",
    "    auc_score = roc_auc_score(y_true, y_score)\n",
    "\n",
    "    name = f\"{m} (AUC={auc_score:.2f})\"\n",
    "    fig.add_trace(go.Scatter(x=fpr, y=tpr, name=name, mode='lines'))\n",
    "\n",
    "fig.update_layout(\n",
    "    title = 'Krzywa ROC',\n",
    "    xaxis_title='FPR',\n",
    "    yaxis_title='TPR',\n",
    "    yaxis=dict(scaleanchor=\"x\", scaleratio=1),\n",
    "    xaxis=dict(constrain='domain'),\n",
    "    width=700, height=500\n",
    "    )\n",
    "fig.show()\n"
   ]
  },
  {
   "cell_type": "code",
   "execution_count": 43,
   "metadata": {},
   "outputs": [
    {
     "data": {
      "application/vnd.plotly.v1+json": {
       "config": {
        "plotlyServerURL": "https://plot.ly"
       },
       "data": [
        {
         "mode": "lines",
         "name": "EDA + TF-IDF + NB (AUC=0.71)",
         "type": "scatter",
         "x": [
          0,
          0.1605080831408776,
          1
         ],
         "y": [
          0,
          0.5746268656716418,
          1
         ]
        },
        {
         "mode": "lines",
         "name": "SMOTE + TF-IDF + NB (AUC=0.71)",
         "type": "scatter",
         "x": [
          0,
          0.16397228637413394,
          1
         ],
         "y": [
          0,
          0.582089552238806,
          1
         ]
        },
        {
         "mode": "lines",
         "name": "EDA + TF-IDF + SVM (AUC=0.54)",
         "type": "scatter",
         "x": [
          0,
          0.04849884526558892,
          1
         ],
         "y": [
          0,
          0.13432835820895522,
          1
         ]
        },
        {
         "mode": "lines",
         "name": "SMOTE + TF-IDF + SVM (AUC=0.53)",
         "type": "scatter",
         "x": [
          0,
          0.004618937644341801,
          1
         ],
         "y": [
          0,
          0.06716417910447761,
          1
         ]
        },
        {
         "mode": "lines",
         "name": "HerBERT (AUC=0.68)",
         "type": "scatter",
         "x": [
          0,
          0.03464203233256351,
          1
         ],
         "y": [
          0,
          0.3880597014925373,
          1
         ]
        }
       ],
       "layout": {
        "height": 500,
        "shapes": [
         {
          "line": {
           "dash": "dash"
          },
          "type": "line",
          "x0": 0,
          "x1": 1,
          "y0": 0,
          "y1": 1
         }
        ],
        "template": {
         "data": {
          "bar": [
           {
            "error_x": {
             "color": "#2a3f5f"
            },
            "error_y": {
             "color": "#2a3f5f"
            },
            "marker": {
             "line": {
              "color": "#E5ECF6",
              "width": 0.5
             },
             "pattern": {
              "fillmode": "overlay",
              "size": 10,
              "solidity": 0.2
             }
            },
            "type": "bar"
           }
          ],
          "barpolar": [
           {
            "marker": {
             "line": {
              "color": "#E5ECF6",
              "width": 0.5
             },
             "pattern": {
              "fillmode": "overlay",
              "size": 10,
              "solidity": 0.2
             }
            },
            "type": "barpolar"
           }
          ],
          "carpet": [
           {
            "aaxis": {
             "endlinecolor": "#2a3f5f",
             "gridcolor": "white",
             "linecolor": "white",
             "minorgridcolor": "white",
             "startlinecolor": "#2a3f5f"
            },
            "baxis": {
             "endlinecolor": "#2a3f5f",
             "gridcolor": "white",
             "linecolor": "white",
             "minorgridcolor": "white",
             "startlinecolor": "#2a3f5f"
            },
            "type": "carpet"
           }
          ],
          "choropleth": [
           {
            "colorbar": {
             "outlinewidth": 0,
             "ticks": ""
            },
            "type": "choropleth"
           }
          ],
          "contour": [
           {
            "colorbar": {
             "outlinewidth": 0,
             "ticks": ""
            },
            "colorscale": [
             [
              0,
              "#0d0887"
             ],
             [
              0.1111111111111111,
              "#46039f"
             ],
             [
              0.2222222222222222,
              "#7201a8"
             ],
             [
              0.3333333333333333,
              "#9c179e"
             ],
             [
              0.4444444444444444,
              "#bd3786"
             ],
             [
              0.5555555555555556,
              "#d8576b"
             ],
             [
              0.6666666666666666,
              "#ed7953"
             ],
             [
              0.7777777777777778,
              "#fb9f3a"
             ],
             [
              0.8888888888888888,
              "#fdca26"
             ],
             [
              1,
              "#f0f921"
             ]
            ],
            "type": "contour"
           }
          ],
          "contourcarpet": [
           {
            "colorbar": {
             "outlinewidth": 0,
             "ticks": ""
            },
            "type": "contourcarpet"
           }
          ],
          "heatmap": [
           {
            "colorbar": {
             "outlinewidth": 0,
             "ticks": ""
            },
            "colorscale": [
             [
              0,
              "#0d0887"
             ],
             [
              0.1111111111111111,
              "#46039f"
             ],
             [
              0.2222222222222222,
              "#7201a8"
             ],
             [
              0.3333333333333333,
              "#9c179e"
             ],
             [
              0.4444444444444444,
              "#bd3786"
             ],
             [
              0.5555555555555556,
              "#d8576b"
             ],
             [
              0.6666666666666666,
              "#ed7953"
             ],
             [
              0.7777777777777778,
              "#fb9f3a"
             ],
             [
              0.8888888888888888,
              "#fdca26"
             ],
             [
              1,
              "#f0f921"
             ]
            ],
            "type": "heatmap"
           }
          ],
          "heatmapgl": [
           {
            "colorbar": {
             "outlinewidth": 0,
             "ticks": ""
            },
            "colorscale": [
             [
              0,
              "#0d0887"
             ],
             [
              0.1111111111111111,
              "#46039f"
             ],
             [
              0.2222222222222222,
              "#7201a8"
             ],
             [
              0.3333333333333333,
              "#9c179e"
             ],
             [
              0.4444444444444444,
              "#bd3786"
             ],
             [
              0.5555555555555556,
              "#d8576b"
             ],
             [
              0.6666666666666666,
              "#ed7953"
             ],
             [
              0.7777777777777778,
              "#fb9f3a"
             ],
             [
              0.8888888888888888,
              "#fdca26"
             ],
             [
              1,
              "#f0f921"
             ]
            ],
            "type": "heatmapgl"
           }
          ],
          "histogram": [
           {
            "marker": {
             "pattern": {
              "fillmode": "overlay",
              "size": 10,
              "solidity": 0.2
             }
            },
            "type": "histogram"
           }
          ],
          "histogram2d": [
           {
            "colorbar": {
             "outlinewidth": 0,
             "ticks": ""
            },
            "colorscale": [
             [
              0,
              "#0d0887"
             ],
             [
              0.1111111111111111,
              "#46039f"
             ],
             [
              0.2222222222222222,
              "#7201a8"
             ],
             [
              0.3333333333333333,
              "#9c179e"
             ],
             [
              0.4444444444444444,
              "#bd3786"
             ],
             [
              0.5555555555555556,
              "#d8576b"
             ],
             [
              0.6666666666666666,
              "#ed7953"
             ],
             [
              0.7777777777777778,
              "#fb9f3a"
             ],
             [
              0.8888888888888888,
              "#fdca26"
             ],
             [
              1,
              "#f0f921"
             ]
            ],
            "type": "histogram2d"
           }
          ],
          "histogram2dcontour": [
           {
            "colorbar": {
             "outlinewidth": 0,
             "ticks": ""
            },
            "colorscale": [
             [
              0,
              "#0d0887"
             ],
             [
              0.1111111111111111,
              "#46039f"
             ],
             [
              0.2222222222222222,
              "#7201a8"
             ],
             [
              0.3333333333333333,
              "#9c179e"
             ],
             [
              0.4444444444444444,
              "#bd3786"
             ],
             [
              0.5555555555555556,
              "#d8576b"
             ],
             [
              0.6666666666666666,
              "#ed7953"
             ],
             [
              0.7777777777777778,
              "#fb9f3a"
             ],
             [
              0.8888888888888888,
              "#fdca26"
             ],
             [
              1,
              "#f0f921"
             ]
            ],
            "type": "histogram2dcontour"
           }
          ],
          "mesh3d": [
           {
            "colorbar": {
             "outlinewidth": 0,
             "ticks": ""
            },
            "type": "mesh3d"
           }
          ],
          "parcoords": [
           {
            "line": {
             "colorbar": {
              "outlinewidth": 0,
              "ticks": ""
             }
            },
            "type": "parcoords"
           }
          ],
          "pie": [
           {
            "automargin": true,
            "type": "pie"
           }
          ],
          "scatter": [
           {
            "fillpattern": {
             "fillmode": "overlay",
             "size": 10,
             "solidity": 0.2
            },
            "type": "scatter"
           }
          ],
          "scatter3d": [
           {
            "line": {
             "colorbar": {
              "outlinewidth": 0,
              "ticks": ""
             }
            },
            "marker": {
             "colorbar": {
              "outlinewidth": 0,
              "ticks": ""
             }
            },
            "type": "scatter3d"
           }
          ],
          "scattercarpet": [
           {
            "marker": {
             "colorbar": {
              "outlinewidth": 0,
              "ticks": ""
             }
            },
            "type": "scattercarpet"
           }
          ],
          "scattergeo": [
           {
            "marker": {
             "colorbar": {
              "outlinewidth": 0,
              "ticks": ""
             }
            },
            "type": "scattergeo"
           }
          ],
          "scattergl": [
           {
            "marker": {
             "colorbar": {
              "outlinewidth": 0,
              "ticks": ""
             }
            },
            "type": "scattergl"
           }
          ],
          "scattermapbox": [
           {
            "marker": {
             "colorbar": {
              "outlinewidth": 0,
              "ticks": ""
             }
            },
            "type": "scattermapbox"
           }
          ],
          "scatterpolar": [
           {
            "marker": {
             "colorbar": {
              "outlinewidth": 0,
              "ticks": ""
             }
            },
            "type": "scatterpolar"
           }
          ],
          "scatterpolargl": [
           {
            "marker": {
             "colorbar": {
              "outlinewidth": 0,
              "ticks": ""
             }
            },
            "type": "scatterpolargl"
           }
          ],
          "scatterternary": [
           {
            "marker": {
             "colorbar": {
              "outlinewidth": 0,
              "ticks": ""
             }
            },
            "type": "scatterternary"
           }
          ],
          "surface": [
           {
            "colorbar": {
             "outlinewidth": 0,
             "ticks": ""
            },
            "colorscale": [
             [
              0,
              "#0d0887"
             ],
             [
              0.1111111111111111,
              "#46039f"
             ],
             [
              0.2222222222222222,
              "#7201a8"
             ],
             [
              0.3333333333333333,
              "#9c179e"
             ],
             [
              0.4444444444444444,
              "#bd3786"
             ],
             [
              0.5555555555555556,
              "#d8576b"
             ],
             [
              0.6666666666666666,
              "#ed7953"
             ],
             [
              0.7777777777777778,
              "#fb9f3a"
             ],
             [
              0.8888888888888888,
              "#fdca26"
             ],
             [
              1,
              "#f0f921"
             ]
            ],
            "type": "surface"
           }
          ],
          "table": [
           {
            "cells": {
             "fill": {
              "color": "#EBF0F8"
             },
             "line": {
              "color": "white"
             }
            },
            "header": {
             "fill": {
              "color": "#C8D4E3"
             },
             "line": {
              "color": "white"
             }
            },
            "type": "table"
           }
          ]
         },
         "layout": {
          "annotationdefaults": {
           "arrowcolor": "#2a3f5f",
           "arrowhead": 0,
           "arrowwidth": 1
          },
          "autotypenumbers": "strict",
          "coloraxis": {
           "colorbar": {
            "outlinewidth": 0,
            "ticks": ""
           }
          },
          "colorscale": {
           "diverging": [
            [
             0,
             "#8e0152"
            ],
            [
             0.1,
             "#c51b7d"
            ],
            [
             0.2,
             "#de77ae"
            ],
            [
             0.3,
             "#f1b6da"
            ],
            [
             0.4,
             "#fde0ef"
            ],
            [
             0.5,
             "#f7f7f7"
            ],
            [
             0.6,
             "#e6f5d0"
            ],
            [
             0.7,
             "#b8e186"
            ],
            [
             0.8,
             "#7fbc41"
            ],
            [
             0.9,
             "#4d9221"
            ],
            [
             1,
             "#276419"
            ]
           ],
           "sequential": [
            [
             0,
             "#0d0887"
            ],
            [
             0.1111111111111111,
             "#46039f"
            ],
            [
             0.2222222222222222,
             "#7201a8"
            ],
            [
             0.3333333333333333,
             "#9c179e"
            ],
            [
             0.4444444444444444,
             "#bd3786"
            ],
            [
             0.5555555555555556,
             "#d8576b"
            ],
            [
             0.6666666666666666,
             "#ed7953"
            ],
            [
             0.7777777777777778,
             "#fb9f3a"
            ],
            [
             0.8888888888888888,
             "#fdca26"
            ],
            [
             1,
             "#f0f921"
            ]
           ],
           "sequentialminus": [
            [
             0,
             "#0d0887"
            ],
            [
             0.1111111111111111,
             "#46039f"
            ],
            [
             0.2222222222222222,
             "#7201a8"
            ],
            [
             0.3333333333333333,
             "#9c179e"
            ],
            [
             0.4444444444444444,
             "#bd3786"
            ],
            [
             0.5555555555555556,
             "#d8576b"
            ],
            [
             0.6666666666666666,
             "#ed7953"
            ],
            [
             0.7777777777777778,
             "#fb9f3a"
            ],
            [
             0.8888888888888888,
             "#fdca26"
            ],
            [
             1,
             "#f0f921"
            ]
           ]
          },
          "colorway": [
           "#636efa",
           "#EF553B",
           "#00cc96",
           "#ab63fa",
           "#FFA15A",
           "#19d3f3",
           "#FF6692",
           "#B6E880",
           "#FF97FF",
           "#FECB52"
          ],
          "font": {
           "color": "#2a3f5f"
          },
          "geo": {
           "bgcolor": "white",
           "lakecolor": "white",
           "landcolor": "#E5ECF6",
           "showlakes": true,
           "showland": true,
           "subunitcolor": "white"
          },
          "hoverlabel": {
           "align": "left"
          },
          "hovermode": "closest",
          "mapbox": {
           "style": "light"
          },
          "paper_bgcolor": "white",
          "plot_bgcolor": "#E5ECF6",
          "polar": {
           "angularaxis": {
            "gridcolor": "white",
            "linecolor": "white",
            "ticks": ""
           },
           "bgcolor": "#E5ECF6",
           "radialaxis": {
            "gridcolor": "white",
            "linecolor": "white",
            "ticks": ""
           }
          },
          "scene": {
           "xaxis": {
            "backgroundcolor": "#E5ECF6",
            "gridcolor": "white",
            "gridwidth": 2,
            "linecolor": "white",
            "showbackground": true,
            "ticks": "",
            "zerolinecolor": "white"
           },
           "yaxis": {
            "backgroundcolor": "#E5ECF6",
            "gridcolor": "white",
            "gridwidth": 2,
            "linecolor": "white",
            "showbackground": true,
            "ticks": "",
            "zerolinecolor": "white"
           },
           "zaxis": {
            "backgroundcolor": "#E5ECF6",
            "gridcolor": "white",
            "gridwidth": 2,
            "linecolor": "white",
            "showbackground": true,
            "ticks": "",
            "zerolinecolor": "white"
           }
          },
          "shapedefaults": {
           "line": {
            "color": "#2a3f5f"
           }
          },
          "ternary": {
           "aaxis": {
            "gridcolor": "white",
            "linecolor": "white",
            "ticks": ""
           },
           "baxis": {
            "gridcolor": "white",
            "linecolor": "white",
            "ticks": ""
           },
           "bgcolor": "#E5ECF6",
           "caxis": {
            "gridcolor": "white",
            "linecolor": "white",
            "ticks": ""
           }
          },
          "title": {
           "x": 0.05
          },
          "xaxis": {
           "automargin": true,
           "gridcolor": "white",
           "linecolor": "white",
           "ticks": "",
           "title": {
            "standoff": 15
           },
           "zerolinecolor": "white",
           "zerolinewidth": 2
          },
          "yaxis": {
           "automargin": true,
           "gridcolor": "white",
           "linecolor": "white",
           "ticks": "",
           "title": {
            "standoff": 15
           },
           "zerolinecolor": "white",
           "zerolinewidth": 2
          }
         }
        },
        "title": {
         "text": "ROC"
        },
        "width": 700,
        "xaxis": {
         "constrain": "domain",
         "title": {
          "text": "FPR"
         }
        },
        "yaxis": {
         "scaleanchor": "x",
         "scaleratio": 1,
         "title": {
          "text": "TPR"
         }
        }
       }
      }
     },
     "metadata": {},
     "output_type": "display_data"
    }
   ],
   "source": [
    "\"\"\" ENG \"\"\"\n",
    "# Create an empty figure, and iteratively add new lines\n",
    "# every time we compute a new class\n",
    "fig = go.Figure()\n",
    "fig.add_shape(\n",
    "    type='line', line=dict(dash='dash'),\n",
    "    x0=0, x1=1, y0=0, y1=1\n",
    ")\n",
    "\n",
    "y_true = test.label.values\n",
    "\n",
    "for m in models.keys():\n",
    "    if m == 'HerBERT':\n",
    "        _, y_score, _ = get_prob_scores(models.get(m), df_test)\n",
    "    elif 'SMOTE' in m:\n",
    "        y_score = models.get(m).predict(X_test_res)\n",
    "    elif 'TF-IDF' in m:\n",
    "        y_score = models.get(m).predict(test.text)\n",
    "    \n",
    "    \n",
    "    \n",
    "    fpr, tpr, _ = roc_curve(y_true, y_score)\n",
    "    auc_score = roc_auc_score(y_true, y_score)\n",
    "\n",
    "    name = f\"{m} (AUC={auc_score:.2f})\"\n",
    "    fig.add_trace(go.Scatter(x=fpr, y=tpr, name=name, mode='lines'))\n",
    "\n",
    "fig.update_layout(\n",
    "    title = 'ROC',\n",
    "    xaxis_title='FPR',\n",
    "    yaxis_title='TPR',\n",
    "    yaxis=dict(scaleanchor=\"x\", scaleratio=1),\n",
    "    xaxis=dict(constrain='domain'),\n",
    "    width=700, height=500\n",
    "    )\n",
    "fig.show()\n"
   ]
  },
  {
   "cell_type": "markdown",
   "metadata": {},
   "source": [
    "[ENG]: The best results were achieved by the simplest models and the most advanced ones. In the case of a simple Naive Bayes classifier, the oversampling technique is of little importance. For this reason, the choice of EDA is recommended, as it is easy to supervise and explain how to obtain synthetic samples. In the case of SMOTE, it is based on vectorized observations (so there is an additional layer of abstraction) and creates new samples in an unsupervised manner which hinders explainability. \n",
    "\n",
    "The HerBERT deep learning model, however, achieved a higher value for the F1 metric (which was the main evaluation metric in the PolEval 2019 competition). The difference between the HerBERT model and the NB model is apparent, as HerBERT has a higher precision index at the expense of recall. This means that of the harmful observations detected, most are indeed harmful, but the fact that not all harmful observations were detected suffers. The opposite is true for the NB model, here a higher percentage is correctly detected harmful content, but at the expense of less precision. \n",
    "\n",
    "Based on the assumption that it is more valuable to detect harmful content (even less precisely), it is recommended to choose the NB model. Moreover, this decision is also confirmed by the AUC metric, which is higher. Besides, the model is explainable, as it is based on a fundamental theorem of probability calculus. \n",
    "\n",
    "[PL]: Najlepsze wyniki osiągnęły modele najprostsze oraz te najbardziej zaawansowane. W przypadku prostego klasyfikatora Naiwnego Bayesa, technika oversamplingu nie ma większego znaczenia. Z tego powodu zalecany jest wybór EDA, gdyż w łatwy sposób można go nadzorować oraz wytłumaczyć sposób uzyskania syntetycznych próbek. W przypadku SMOTE, oparty jest on na obserwacjach zwektoryzowanych (więc pojawia się dodatkowa warstwa abstrakcji) i tworzy nowe próbki w sposób nienadzorowany co utrudnia wyjaśnialność. \n",
    "\n",
    "Model uczenia głębokiego HerBERT osiągnął jednak wyższą wartość metryki F1 (która była główną metryką oceny w zawodach PolEval 2019). Widoczna jest różnica między modelem HerBERT a modelem NB, gdyż HerBERT ma wyższy wskaźnik precyzji kosztem recall. Oznacza to, że spośród wykrytych obserwacji szkodliwych większość rzeczywiście jest szkodliwa, ale cierpi na tym fakt, że nie wszystkie obserwacje szkodliwe zostały wykryte. Odwrotnie jest w przypadku modelu NB, tutaj większy odsetek jest poprawnie wykrytych treści szkodliwych, ale za to mniej precyzyjnie. \n",
    "\n",
    "Wychodząc z założenia, że bardziej wartościowe jest wykrycie treści szkodliwej (nawet mniej precyzyjnie) zalecany jest wybór modelu NB. Co więcej, decyzję taką potwierdza też metryka AUC, która jest wyższa. Oprócz tego, model ten jest wyjaśnialny, gdyż opiera się na fundamentalnym twierdzeniu rachunku prawdopodobieństwa. "
   ]
  }
 ],
 "metadata": {
  "kernelspec": {
   "display_name": "env",
   "language": "python",
   "name": "python3"
  },
  "language_info": {
   "codemirror_mode": {
    "name": "ipython",
    "version": 3
   },
   "file_extension": ".py",
   "mimetype": "text/x-python",
   "name": "python",
   "nbconvert_exporter": "python",
   "pygments_lexer": "ipython3",
   "version": "3.11.4"
  },
  "orig_nbformat": 4
 },
 "nbformat": 4,
 "nbformat_minor": 2
}
