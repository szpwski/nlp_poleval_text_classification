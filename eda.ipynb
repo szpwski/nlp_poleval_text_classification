{
 "cells": [
  {
   "cell_type": "code",
   "execution_count": 1,
   "metadata": {},
   "outputs": [],
   "source": [
    "import os\n",
    "import pandas as pd"
   ]
  },
  {
   "cell_type": "code",
   "execution_count": 25,
   "metadata": {},
   "outputs": [],
   "source": [
    "def read_text_files_into_dataframe(data_folder):\n",
    "    \"\"\"\n",
    "    Function reads text files from specified data folder and saves them as dataframe\n",
    "\n",
    "    Args:\n",
    "        data_folder - path to folder with text data\n",
    "    \"\"\"\n",
    "\n",
    "    texts = []  # List to store the text data\n",
    "    labels = []  # List to store the corresponding labels\n",
    "    split = [] # List to store information about split\n",
    "\n",
    "    # For each file in the data folder\n",
    "    for file_name in os.listdir(data_folder):\n",
    "\n",
    "        # Specify whether it is training or test part\n",
    "        split_name = 'train' if file_name.startswith('training') else 'test'\n",
    "\n",
    "        file_path = os.path.join(data_folder, file_name)\n",
    "\n",
    "        # Read from text file\n",
    "        with open(file_path, 'r', encoding='utf-8') as file:\n",
    "            if file_name.endswith('text.txt'):\n",
    "                read_texts = file.read().split(\"\\n\")\n",
    "                texts = texts + read_texts\n",
    "                split = split + [split_name] * len(read_texts)\n",
    "\n",
    "            elif file_name.endswith('tags.txt'):\n",
    "                labels = labels + file.read().split(\"\\n\")\n",
    "            \n",
    "            else:\n",
    "                raise Exception(\"Not implemented error!\")\n",
    "            \n",
    "       \n",
    "    # Create a pandas DataFrame\n",
    "    df = pd.DataFrame({'text': texts, 'label': labels, 'split': split})\n",
    "    \n",
    "    return df"
   ]
  },
  {
   "cell_type": "code",
   "execution_count": 33,
   "metadata": {},
   "outputs": [],
   "source": [
    "# Create dataframe with text data\n",
    "df = read_text_files_into_dataframe(\"data\")\n",
    "\n",
    "# Get train and test data\n",
    "train, test = df.loc[df.split == 'train', ['text', 'label']], df.loc[df.split == 'train', ['text', 'label']]"
   ]
  },
  {
   "cell_type": "code",
   "execution_count": 36,
   "metadata": {},
   "outputs": [
    {
     "data": {
      "text/plain": [
       "label\n",
       "0    9190\n",
       "1     851\n",
       "Name: count, dtype: int64"
      ]
     },
     "execution_count": 36,
     "metadata": {},
     "output_type": "execute_result"
    }
   ],
   "source": [
    "# See proportion of classes\n",
    "train.label.value_counts()"
   ]
  },
  {
   "cell_type": "code",
   "execution_count": null,
   "metadata": {},
   "outputs": [],
   "source": []
  }
 ],
 "metadata": {
  "kernelspec": {
   "display_name": "venv",
   "language": "python",
   "name": "python3"
  },
  "language_info": {
   "codemirror_mode": {
    "name": "ipython",
    "version": 3
   },
   "file_extension": ".py",
   "mimetype": "text/x-python",
   "name": "python",
   "nbconvert_exporter": "python",
   "pygments_lexer": "ipython3",
   "version": "3.11.4"
  },
  "orig_nbformat": 4
 },
 "nbformat": 4,
 "nbformat_minor": 2
}
